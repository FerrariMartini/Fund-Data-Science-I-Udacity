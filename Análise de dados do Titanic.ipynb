{
 "cells": [
  {
   "cell_type": "markdown",
   "metadata": {},
   "source": [
    "#  PROJETO DATA SCIENCE - TITANIC\n",
    "\n",
    "O RMS Titanic foi um navio de passageiros britânico foi pensado para ser o navio mais luxuoso e mais seguro de sua época, gerando lendas que era supostamente \"inafundável\".\n",
    "\n",
    "A embarcação partiu em sua viagem inaugural de Southampton para Nova Iorque em 10 de abril de 1912, no caminho passando em Cherbourg-Octeville na França e por Queenstown na Irlanda. Ele colidiu com um iceberg no dia 14 de abril e afundou na madrugada do dia seguinte com mais de 1.500 pessoas a bordo.\n",
    "\n",
    "*fonte: [Wikipedia](https://pt.wikipedia.org/wiki/RMS_Titanic)*"
   ]
  },
  {
   "cell_type": "markdown",
   "metadata": {},
   "source": [
    "#### ORIGEM DOS DADOS\n",
    "A base de dados usada foi `'titanic-data-6.csv'` e tem sua origem no site [Kaggle](https://www.kaggle.com/c/titanic/data.) "
   ]
  },
  {
   "cell_type": "markdown",
   "metadata": {},
   "source": [
    "##  1- Analisando os dados do Titanic"
   ]
  },
  {
   "cell_type": "code",
   "execution_count": 58,
   "metadata": {},
   "outputs": [
    {
     "data": {
      "text/html": [
       "<div>\n",
       "<style scoped>\n",
       "    .dataframe tbody tr th:only-of-type {\n",
       "        vertical-align: middle;\n",
       "    }\n",
       "\n",
       "    .dataframe tbody tr th {\n",
       "        vertical-align: top;\n",
       "    }\n",
       "\n",
       "    .dataframe thead th {\n",
       "        text-align: right;\n",
       "    }\n",
       "</style>\n",
       "<table border=\"1\" class=\"dataframe\">\n",
       "  <thead>\n",
       "    <tr style=\"text-align: right;\">\n",
       "      <th></th>\n",
       "      <th>PassengerId</th>\n",
       "      <th>Survived</th>\n",
       "      <th>Pclass</th>\n",
       "      <th>Name</th>\n",
       "      <th>Sex</th>\n",
       "      <th>Age</th>\n",
       "      <th>SibSp</th>\n",
       "      <th>Parch</th>\n",
       "      <th>Ticket</th>\n",
       "      <th>Fare</th>\n",
       "      <th>Cabin</th>\n",
       "      <th>Embarked</th>\n",
       "    </tr>\n",
       "  </thead>\n",
       "  <tbody>\n",
       "    <tr>\n",
       "      <th>0</th>\n",
       "      <td>1</td>\n",
       "      <td>0</td>\n",
       "      <td>3</td>\n",
       "      <td>Braund, Mr. Owen Harris</td>\n",
       "      <td>male</td>\n",
       "      <td>22.0</td>\n",
       "      <td>1</td>\n",
       "      <td>0</td>\n",
       "      <td>A/5 21171</td>\n",
       "      <td>7.2500</td>\n",
       "      <td>NaN</td>\n",
       "      <td>S</td>\n",
       "    </tr>\n",
       "    <tr>\n",
       "      <th>1</th>\n",
       "      <td>2</td>\n",
       "      <td>1</td>\n",
       "      <td>1</td>\n",
       "      <td>Cumings, Mrs. John Bradley (Florence Briggs Th...</td>\n",
       "      <td>female</td>\n",
       "      <td>38.0</td>\n",
       "      <td>1</td>\n",
       "      <td>0</td>\n",
       "      <td>PC 17599</td>\n",
       "      <td>71.2833</td>\n",
       "      <td>C85</td>\n",
       "      <td>C</td>\n",
       "    </tr>\n",
       "    <tr>\n",
       "      <th>2</th>\n",
       "      <td>3</td>\n",
       "      <td>1</td>\n",
       "      <td>3</td>\n",
       "      <td>Heikkinen, Miss. Laina</td>\n",
       "      <td>female</td>\n",
       "      <td>26.0</td>\n",
       "      <td>0</td>\n",
       "      <td>0</td>\n",
       "      <td>STON/O2. 3101282</td>\n",
       "      <td>7.9250</td>\n",
       "      <td>NaN</td>\n",
       "      <td>S</td>\n",
       "    </tr>\n",
       "    <tr>\n",
       "      <th>3</th>\n",
       "      <td>4</td>\n",
       "      <td>1</td>\n",
       "      <td>1</td>\n",
       "      <td>Futrelle, Mrs. Jacques Heath (Lily May Peel)</td>\n",
       "      <td>female</td>\n",
       "      <td>35.0</td>\n",
       "      <td>1</td>\n",
       "      <td>0</td>\n",
       "      <td>113803</td>\n",
       "      <td>53.1000</td>\n",
       "      <td>C123</td>\n",
       "      <td>S</td>\n",
       "    </tr>\n",
       "    <tr>\n",
       "      <th>4</th>\n",
       "      <td>5</td>\n",
       "      <td>0</td>\n",
       "      <td>3</td>\n",
       "      <td>Allen, Mr. William Henry</td>\n",
       "      <td>male</td>\n",
       "      <td>35.0</td>\n",
       "      <td>0</td>\n",
       "      <td>0</td>\n",
       "      <td>373450</td>\n",
       "      <td>8.0500</td>\n",
       "      <td>NaN</td>\n",
       "      <td>S</td>\n",
       "    </tr>\n",
       "  </tbody>\n",
       "</table>\n",
       "</div>"
      ],
      "text/plain": [
       "   PassengerId  Survived  Pclass  \\\n",
       "0            1         0       3   \n",
       "1            2         1       1   \n",
       "2            3         1       3   \n",
       "3            4         1       1   \n",
       "4            5         0       3   \n",
       "\n",
       "                                                Name     Sex   Age  SibSp  \\\n",
       "0                            Braund, Mr. Owen Harris    male  22.0      1   \n",
       "1  Cumings, Mrs. John Bradley (Florence Briggs Th...  female  38.0      1   \n",
       "2                             Heikkinen, Miss. Laina  female  26.0      0   \n",
       "3       Futrelle, Mrs. Jacques Heath (Lily May Peel)  female  35.0      1   \n",
       "4                           Allen, Mr. William Henry    male  35.0      0   \n",
       "\n",
       "   Parch            Ticket     Fare Cabin Embarked  \n",
       "0      0         A/5 21171   7.2500   NaN        S  \n",
       "1      0          PC 17599  71.2833   C85        C  \n",
       "2      0  STON/O2. 3101282   7.9250   NaN        S  \n",
       "3      0            113803  53.1000  C123        S  \n",
       "4      0            373450   8.0500   NaN        S  "
      ]
     },
     "execution_count": 58,
     "metadata": {},
     "output_type": "execute_result"
    }
   ],
   "source": [
    "import pandas as pd\n",
    "import numpy as np\n",
    "import seaborn as sns\n",
    "import matplotlib.pyplot as plt\n",
    "%matplotlib inline\n",
    "\n",
    "df_titanic = pd.read_csv('titanic-data-6.csv')\n",
    "df_titanic.head()"
   ]
  },
  {
   "cell_type": "code",
   "execution_count": 59,
   "metadata": {},
   "outputs": [
    {
     "name": "stdout",
     "output_type": "stream",
     "text": [
      "O dataframe do Titanic possui 891 linhas e 12 colunas\n"
     ]
    }
   ],
   "source": [
    "# Avaliando o tamanho do dataframe em linhas e colunas.\n",
    "print('O dataframe do Titanic possui {} linhas e {} colunas'.format(df_titanic.shape[0], df_titanic.shape[1]))"
   ]
  },
  {
   "cell_type": "code",
   "execution_count": 60,
   "metadata": {},
   "outputs": [
    {
     "name": "stdout",
     "output_type": "stream",
     "text": [
      "<class 'pandas.core.frame.DataFrame'>\n",
      "RangeIndex: 891 entries, 0 to 890\n",
      "Data columns (total 12 columns):\n",
      "PassengerId    891 non-null int64\n",
      "Survived       891 non-null int64\n",
      "Pclass         891 non-null int64\n",
      "Name           891 non-null object\n",
      "Sex            891 non-null object\n",
      "Age            714 non-null float64\n",
      "SibSp          891 non-null int64\n",
      "Parch          891 non-null int64\n",
      "Ticket         891 non-null object\n",
      "Fare           891 non-null float64\n",
      "Cabin          204 non-null object\n",
      "Embarked       889 non-null object\n",
      "dtypes: float64(2), int64(5), object(5)\n",
      "memory usage: 83.6+ KB\n",
      "\n",
      "- Colunas com valores Faltantes: ['Age' 'Cabin' 'Embarked'] \n",
      "\n",
      "- Existem 0 dados duplicados\n"
     ]
    }
   ],
   "source": [
    "# Conhecendo os tipos de dados de cada coluna\n",
    "df_titanic.info()\n",
    "\n",
    "# Confirmando os valores faltantes de cada coluna. \n",
    "print('\\n- Colunas com valores Faltantes: {0} \\n'.format(df_titanic.columns[df_titanic.isnull().any()].values))\n",
    "\n",
    "# Checar se há duplicação de dados:\n",
    "print('- Existem {} dados duplicados'.format(sum(df_titanic.duplicated())))"
   ]
  },
  {
   "cell_type": "code",
   "execution_count": 61,
   "metadata": {
    "scrolled": false
   },
   "outputs": [
    {
     "data": {
      "text/plain": [
       "PassengerId    891\n",
       "Survived         2\n",
       "Pclass           3\n",
       "Name           891\n",
       "Sex              2\n",
       "Age             88\n",
       "SibSp            7\n",
       "Parch            7\n",
       "Ticket         681\n",
       "Fare           248\n",
       "Cabin          147\n",
       "Embarked         3\n",
       "dtype: int64"
      ]
     },
     "execution_count": 61,
     "metadata": {},
     "output_type": "execute_result"
    }
   ],
   "source": [
    "# Avaliando a quantidade de dados únicos\n",
    "df_titanic.nunique()"
   ]
  },
  {
   "cell_type": "markdown",
   "metadata": {},
   "source": [
    "## 2- Perguntas\n",
    "Com base nos dados do arquivo 'titanic-data-6.csv' iremos explorar as seguintes relações:\n",
    "\n",
    "1- Qual o percentual de pessoas que sobreviveram ao acidente? <br/><br/>\n",
    "2- Qual a quantidade de passageiros por classes? <br/><br/>\n",
    "3- Pessoas das classes 1º e 2º sobreviveram em maior quantidade do que pessoas da 3º classes?<br/><br/>\n",
    "4- Há relação de sobrevivência com o gênero e cultura do ditado popular “Mulheres e crianças primeiro”?<br/><br/>\n",
    "5- Qual porto teve mais sobreviventes?<br/><br/>\n",
    "6- Qual a relação dos ticket class por porto?<br/><br/>"
   ]
  },
  {
   "cell_type": "markdown",
   "metadata": {},
   "source": [
    "## 3- Preparando a base\n",
    "Corrigindo e limpando o dataframe\n"
   ]
  },
  {
   "cell_type": "code",
   "execution_count": 62,
   "metadata": {},
   "outputs": [
    {
     "data": {
      "text/html": [
       "<div>\n",
       "<style scoped>\n",
       "    .dataframe tbody tr th:only-of-type {\n",
       "        vertical-align: middle;\n",
       "    }\n",
       "\n",
       "    .dataframe tbody tr th {\n",
       "        vertical-align: top;\n",
       "    }\n",
       "\n",
       "    .dataframe thead th {\n",
       "        text-align: right;\n",
       "    }\n",
       "</style>\n",
       "<table border=\"1\" class=\"dataframe\">\n",
       "  <thead>\n",
       "    <tr style=\"text-align: right;\">\n",
       "      <th></th>\n",
       "      <th>passengerid</th>\n",
       "      <th>survived</th>\n",
       "      <th>pclass</th>\n",
       "      <th>name</th>\n",
       "      <th>sex</th>\n",
       "      <th>age</th>\n",
       "      <th>sibsp</th>\n",
       "      <th>parch</th>\n",
       "      <th>ticket</th>\n",
       "      <th>fare</th>\n",
       "      <th>cabin</th>\n",
       "      <th>embarked</th>\n",
       "    </tr>\n",
       "  </thead>\n",
       "  <tbody>\n",
       "    <tr>\n",
       "      <th>0</th>\n",
       "      <td>1</td>\n",
       "      <td>0</td>\n",
       "      <td>3</td>\n",
       "      <td>Braund, Mr. Owen Harris</td>\n",
       "      <td>male</td>\n",
       "      <td>22.0</td>\n",
       "      <td>1</td>\n",
       "      <td>0</td>\n",
       "      <td>A/5 21171</td>\n",
       "      <td>7.2500</td>\n",
       "      <td>NaN</td>\n",
       "      <td>S</td>\n",
       "    </tr>\n",
       "    <tr>\n",
       "      <th>1</th>\n",
       "      <td>2</td>\n",
       "      <td>1</td>\n",
       "      <td>1</td>\n",
       "      <td>Cumings, Mrs. John Bradley (Florence Briggs Th...</td>\n",
       "      <td>female</td>\n",
       "      <td>38.0</td>\n",
       "      <td>1</td>\n",
       "      <td>0</td>\n",
       "      <td>PC 17599</td>\n",
       "      <td>71.2833</td>\n",
       "      <td>C85</td>\n",
       "      <td>C</td>\n",
       "    </tr>\n",
       "    <tr>\n",
       "      <th>2</th>\n",
       "      <td>3</td>\n",
       "      <td>1</td>\n",
       "      <td>3</td>\n",
       "      <td>Heikkinen, Miss. Laina</td>\n",
       "      <td>female</td>\n",
       "      <td>26.0</td>\n",
       "      <td>0</td>\n",
       "      <td>0</td>\n",
       "      <td>STON/O2. 3101282</td>\n",
       "      <td>7.9250</td>\n",
       "      <td>NaN</td>\n",
       "      <td>S</td>\n",
       "    </tr>\n",
       "    <tr>\n",
       "      <th>3</th>\n",
       "      <td>4</td>\n",
       "      <td>1</td>\n",
       "      <td>1</td>\n",
       "      <td>Futrelle, Mrs. Jacques Heath (Lily May Peel)</td>\n",
       "      <td>female</td>\n",
       "      <td>35.0</td>\n",
       "      <td>1</td>\n",
       "      <td>0</td>\n",
       "      <td>113803</td>\n",
       "      <td>53.1000</td>\n",
       "      <td>C123</td>\n",
       "      <td>S</td>\n",
       "    </tr>\n",
       "    <tr>\n",
       "      <th>4</th>\n",
       "      <td>5</td>\n",
       "      <td>0</td>\n",
       "      <td>3</td>\n",
       "      <td>Allen, Mr. William Henry</td>\n",
       "      <td>male</td>\n",
       "      <td>35.0</td>\n",
       "      <td>0</td>\n",
       "      <td>0</td>\n",
       "      <td>373450</td>\n",
       "      <td>8.0500</td>\n",
       "      <td>NaN</td>\n",
       "      <td>S</td>\n",
       "    </tr>\n",
       "  </tbody>\n",
       "</table>\n",
       "</div>"
      ],
      "text/plain": [
       "   passengerid  survived  pclass  \\\n",
       "0            1         0       3   \n",
       "1            2         1       1   \n",
       "2            3         1       3   \n",
       "3            4         1       1   \n",
       "4            5         0       3   \n",
       "\n",
       "                                                name     sex   age  sibsp  \\\n",
       "0                            Braund, Mr. Owen Harris    male  22.0      1   \n",
       "1  Cumings, Mrs. John Bradley (Florence Briggs Th...  female  38.0      1   \n",
       "2                             Heikkinen, Miss. Laina  female  26.0      0   \n",
       "3       Futrelle, Mrs. Jacques Heath (Lily May Peel)  female  35.0      1   \n",
       "4                           Allen, Mr. William Henry    male  35.0      0   \n",
       "\n",
       "   parch            ticket     fare cabin embarked  \n",
       "0      0         A/5 21171   7.2500   NaN        S  \n",
       "1      0          PC 17599  71.2833   C85        C  \n",
       "2      0  STON/O2. 3101282   7.9250   NaN        S  \n",
       "3      0            113803  53.1000  C123        S  \n",
       "4      0            373450   8.0500   NaN        S  "
      ]
     },
     "execution_count": 62,
     "metadata": {},
     "output_type": "execute_result"
    }
   ],
   "source": [
    "# modificando os rótulos das colunas\n",
    "df_titanic.columns = [col.lower() for col in df_titanic.columns]\n",
    "df_titanic.head()"
   ]
  },
  {
   "cell_type": "code",
   "execution_count": 63,
   "metadata": {
    "scrolled": false
   },
   "outputs": [
    {
     "data": {
      "text/html": [
       "<div>\n",
       "<style scoped>\n",
       "    .dataframe tbody tr th:only-of-type {\n",
       "        vertical-align: middle;\n",
       "    }\n",
       "\n",
       "    .dataframe tbody tr th {\n",
       "        vertical-align: top;\n",
       "    }\n",
       "\n",
       "    .dataframe thead th {\n",
       "        text-align: right;\n",
       "    }\n",
       "</style>\n",
       "<table border=\"1\" class=\"dataframe\">\n",
       "  <thead>\n",
       "    <tr style=\"text-align: right;\">\n",
       "      <th></th>\n",
       "      <th>survived</th>\n",
       "      <th>pclass</th>\n",
       "      <th>sex</th>\n",
       "      <th>fare</th>\n",
       "      <th>embarked</th>\n",
       "    </tr>\n",
       "  </thead>\n",
       "  <tbody>\n",
       "    <tr>\n",
       "      <th>0</th>\n",
       "      <td>0</td>\n",
       "      <td>3</td>\n",
       "      <td>male</td>\n",
       "      <td>7.2500</td>\n",
       "      <td>S</td>\n",
       "    </tr>\n",
       "    <tr>\n",
       "      <th>1</th>\n",
       "      <td>1</td>\n",
       "      <td>1</td>\n",
       "      <td>female</td>\n",
       "      <td>71.2833</td>\n",
       "      <td>C</td>\n",
       "    </tr>\n",
       "    <tr>\n",
       "      <th>2</th>\n",
       "      <td>1</td>\n",
       "      <td>3</td>\n",
       "      <td>female</td>\n",
       "      <td>7.9250</td>\n",
       "      <td>S</td>\n",
       "    </tr>\n",
       "    <tr>\n",
       "      <th>3</th>\n",
       "      <td>1</td>\n",
       "      <td>1</td>\n",
       "      <td>female</td>\n",
       "      <td>53.1000</td>\n",
       "      <td>S</td>\n",
       "    </tr>\n",
       "    <tr>\n",
       "      <th>4</th>\n",
       "      <td>0</td>\n",
       "      <td>3</td>\n",
       "      <td>male</td>\n",
       "      <td>8.0500</td>\n",
       "      <td>S</td>\n",
       "    </tr>\n",
       "  </tbody>\n",
       "</table>\n",
       "</div>"
      ],
      "text/plain": [
       "   survived  pclass     sex     fare embarked\n",
       "0         0       3    male   7.2500        S\n",
       "1         1       1  female  71.2833        C\n",
       "2         1       3  female   7.9250        S\n",
       "3         1       1  female  53.1000        S\n",
       "4         0       3    male   8.0500        S"
      ]
     },
     "execution_count": 63,
     "metadata": {},
     "output_type": "execute_result"
    }
   ],
   "source": [
    "# Descartando colunas irrelevantes para a análise\n",
    "df_titanic.drop(['passengerid','sibsp','name','age','parch','ticket','cabin'],axis=1, inplace=True)\n",
    "df_titanic.head()"
   ]
  },
  {
   "cell_type": "markdown",
   "metadata": {},
   "source": [
    "## 4- Explorando\n",
    "Cruzando os dados para obter as respostas as perguntas:"
   ]
  },
  {
   "cell_type": "markdown",
   "metadata": {},
   "source": [
    "***1- Qual o percentual de pessoas que sobreviveram ao acidente?***"
   ]
  },
  {
   "cell_type": "code",
   "execution_count": 64,
   "metadata": {
    "scrolled": false
   },
   "outputs": [
    {
     "name": "stdout",
     "output_type": "stream",
     "text": [
      "Do total de 891 passageiros, temos: \n",
      " » 342 sobreviventes \n",
      " » 549 mortos\n"
     ]
    },
    {
     "data": {
      "image/png": "[encoded data removed]",
      "text/plain": [
       "<Figure size 432x288 with 1 Axes>"
      ]
     },
     "metadata": {},
     "output_type": "display_data"
    }
   ],
   "source": [
    "# extraindo o número total de passageiros. \n",
    "total_passenger =  df_titanic['survived'].count()\n",
    "\n",
    "# extraindo o número total de passageiros que sobreviveram.\n",
    "survivers = df_titanic.query('survived == 1').count()\n",
    "survivers = survivers['survived']\n",
    "\n",
    "#extraindo o número total de passageiros que morreram.\n",
    "deads = df_titanic.query('survived < 1').count()\n",
    "deads = deads['survived']\n",
    "\n",
    "# apresentando de forma consolidada o número total de passageiros, sobreviventes e mortos \n",
    "print('Do total de {} passageiros, temos: \\n » {} sobreviventes \\n » {} mortos'.format(total_passenger, survivers, deads))\n",
    "\n",
    "# Gráfico da relação entre mortos e sobreviventes. \n",
    "label = ['Sobreviventes', 'Mortos']\n",
    "qtd_survi_dead = [survivers, deads]\n",
    "explode = (0, 0.1)\n",
    "\n",
    "fig1, ax1 = plt.subplots()\n",
    "ax1.pie(qtd_survi_dead, explode = explode, labels = label, autopct = '%1.1f%%', shadow = True, startangle = 90)\n",
    "ax1.axis('equal')\n",
    "ax1.set_title('Passageiros do Titanic')\n",
    "plt.show()"
   ]
  },
  {
   "cell_type": "markdown",
   "metadata": {},
   "source": [
    "Baseado nos dados visíveis acima:\n",
    "   - Apenas `38,4%` dos passageiros sobreviveram ao acidente (342 pessoas)."
   ]
  },
  {
   "cell_type": "markdown",
   "metadata": {},
   "source": [
    "***2- Qual a quantidade de passageiros por classes?*** "
   ]
  },
  {
   "cell_type": "code",
   "execution_count": 65,
   "metadata": {
    "scrolled": true
   },
   "outputs": [
    {
     "name": "stdout",
     "output_type": "stream",
     "text": [
      "Tinhamos a bordo do Titanic a seguinte organização de passageiros: \n",
      " » 216 em 1ª Classe \n",
      " » 184 em 2ª Classe \n",
      " » 491 em 3ª Classe\n"
     ]
    },
    {
     "data": {
      "image/png": "[encoded data removed]",
      "text/plain": [
       "<Figure size 432x288 with 1 Axes>"
      ]
     },
     "metadata": {},
     "output_type": "display_data"
    }
   ],
   "source": [
    "# Colocamos os ticket class (pclass) como index, agrupar e contar a quantidade de passageiros. \n",
    "total_pass_class = df_titanic.groupby('pclass')['survived'].count()\n",
    "\n",
    "# separar as quantidades de passageiros por ticket class. \n",
    "total_1class = total_pass_class.iloc[0]\n",
    "total_2class = total_pass_class.iloc[1]\n",
    "total_3class = total_pass_class.iloc[2]\n",
    "\n",
    "# imprimir as quantidades de passageiros por ticket class. \n",
    "print('Tinhamos a bordo do Titanic a seguinte organização de passageiros: \\n » {} em 1ª Classe \\n » {} em 2ª Classe \\n » {} em 3ª Classe'\n",
    "      .format(total_1class, total_2class, total_3class))\n",
    "\n",
    "# Gráfico da relação entre as classes de passageiros. \n",
    "labels = ['1ª Classe', '2ª Classe', '3ª Classe']\n",
    "sizes = [total_1class, total_2class, total_3class]\n",
    "explode = (0, 0, 0.1)\n",
    "\n",
    "fig1, ax1 = plt.subplots()\n",
    "ax1.pie(sizes, explode = explode, labels = labels, autopct = '%1.1f%%', shadow = True, startangle = 90)\n",
    "ax1.axis('equal')\n",
    "ax1.set_title('Distribuição de Ticket Class')\n",
    "plt.show()"
   ]
  },
  {
   "cell_type": "markdown",
   "metadata": {},
   "source": [
    "Baseado nos dados visíveis acima:\n",
    "   - A 3º classe com 55,1% ou `491 pessoas` tinha o maior número de passageiros embarcados. \n",
    "   - A 1º classe com 24,2% ou `216 pessoas` era a segunda maior em número de passageiros embarcados e\n",
    "   - A 2º classe com 20,7% ou `184 pessoas` era a menor em número de passageiros dentre todas."
   ]
  },
  {
   "cell_type": "markdown",
   "metadata": {},
   "source": [
    "***3- Pessoas das classes 1º e 2º sobreviveram em maior quantidade do que pessoas da 3º classes?***"
   ]
  },
  {
   "cell_type": "code",
   "execution_count": 66,
   "metadata": {
    "scrolled": false
   },
   "outputs": [
    {
     "name": "stdout",
     "output_type": "stream",
     "text": [
      "A quantidade de sobreviventes por ticket classes é:\n",
      "» 1º classe: 136 sobreviventes e 80 mortos\n",
      "» 2º classe: 87 sobreviventes e 97 mortos\n",
      "» 3º classe: 119 sobreviventes e 372 mortos\n"
     ]
    },
    {
     "data": {
      "image/png": "[encoded data removed]",
      "text/plain": [
       "<Figure size 432x288 with 1 Axes>"
      ]
     },
     "metadata": {},
     "output_type": "display_data"
    }
   ],
   "source": [
    "# Colocamos os ticket class (pclass) como index, para conhecer a quantidade de sobreviventes e mortos por tiket class.\n",
    "count_class = df_titanic.groupby('pclass')['survived'].value_counts()\n",
    "\n",
    "# desmonstrar a quantidade de sobreviventes e mortos por ticket class. \n",
    "print('A quantidade de sobreviventes por ticket classes é:') \n",
    "print('» 1º classe: {} sobreviventes e {} mortos'.format(count_class.iloc[0], count_class.iloc[1]))\n",
    "print('» 2º classe: {} sobreviventes e {} mortos'.format(count_class.iloc[3], count_class.iloc[2]))\n",
    "print('» 3º classe: {} sobreviventes e {} mortos'.format(count_class.iloc[5], count_class.iloc[4]))\n",
    "\n",
    "# Calculamos a relação (sobreviventes / sobreviventes + mortos) por cada tipo de ticket class. \n",
    "mean_pclass = df_titanic.groupby('pclass')['survived'].mean()\n",
    "\n",
    "# Gráfico da relação entre sobreviventes e mortos por cada tipo de ticket class.\n",
    "classes = ['1º classe', '2º classe', '3º classe'] \n",
    "perc_surviver = [mean_pclass[1]*100, mean_pclass[2]*100, mean_pclass[3]*100] \n",
    "color = \"darkblue\", \"darkgreen\", \"darkred\" \n",
    "\n",
    "plt.bar(classes, perc_surviver, color=color);\n",
    "plt.title('Sobreviventes por Ticket Class\\n')\n",
    "plt.xlabel('\\nTicket classes')\n",
    "plt.ylabel('% de sobreviventes\\n');"
   ]
  },
  {
   "cell_type": "markdown",
   "metadata": {},
   "source": [
    "Baseado nos dados visíveis acima:\n",
    "   - A 1º e 2º classe tiveram nítidamente mais sobreviventes que a 3º classe. \n",
    "       - 1º classe: 62% de sobreviventes\n",
    "       - 2º classe: 48% de sobreviventes \n",
    "       - enquanto a 3º classe teve apenas 25% de sobreviventes."
   ]
  },
  {
   "cell_type": "markdown",
   "metadata": {},
   "source": [
    "***4- Há relação de sobrevivência com o gênero e cultura do ditado popular “Mulheres e crianças primeiro”?***"
   ]
  },
  {
   "cell_type": "code",
   "execution_count": 67,
   "metadata": {
    "scrolled": false
   },
   "outputs": [
    {
     "name": "stdout",
     "output_type": "stream",
     "text": [
      "Havia a seguinte distribuição de passageiros a partir dos gêneros:\n",
      "» Total-Masculino: 577 \n",
      "» Total-Feminino: 314 \n",
      "» Total: 891\n",
      "\n",
      "Havia uma proporção de aproximadamente 02 pessoas do gênero Masculino para cada 01 pessoa do gênero Feminino.\n",
      "\n",
      "Porém a relação entre as mortes de gêneros é de aproximadamente 06 pessoas do gênero Masculino mortas \n",
      "para cada 01 pessoa do gênero Feminino.\n"
     ]
    },
    {
     "data": {
      "image/png": "[encoded data removed]",
      "text/plain": [
       "<Figure size 432x288 with 1 Axes>"
      ]
     },
     "metadata": {},
     "output_type": "display_data"
    }
   ],
   "source": [
    "# Contagem da quantidade passageiros por gêneros (sex - Male e Female).\n",
    "count_sex = df_titanic['sex'].value_counts()\n",
    "\n",
    "# Soma total dos passageiros. \n",
    "total_passager = count_sex['male'] + count_sex['female']\n",
    "\n",
    "# Colocamos os gênero (sex) como index, para contar a quantidade de sobreviventes e mortos.\n",
    "count_gender = df_titanic.groupby('sex')['survived'].value_counts()\n",
    "\n",
    "# Separando a quantidade de mortos por gênero.\n",
    "male_dead =  count_gender[2]\n",
    "female_dead = count_gender[1]\n",
    "\n",
    "# Desmonstrar a quantidade de passageiros por gênero. \n",
    "print('Havia a seguinte distribuição de passageiros a partir dos gêneros:\\n» Total-Masculino: {} \\n» Total-Feminino: {} \\n» Total: {}'\n",
    "      .format(count_sex['male'],count_sex['female'], total_passager))\n",
    "\n",
    "# Avaliar e calcular a proporção de gêneros masculino(male) e feminino(female). \n",
    "gender_proportion = round(count_sex['male']/count_sex['female'])\n",
    "dead_proportion =  male_dead/female_dead\n",
    "\n",
    "# Desmonstrar a relação entre de passageiros por gênero. \n",
    "print('\\nHavia uma proporção de aproximadamente 0{0:.0f} pessoas do gênero Masculino para cada 01 pessoa do gênero Feminino.'\n",
    "      .format(gender_proportion))\n",
    "\n",
    "# Desmonstrar a relação de morte entre passageiros por gênero. \n",
    "print('\\nPorém a relação entre as mortes de gêneros é de aproximadamente 0{0:.0f} pessoas do gênero Masculino mortas \\npara cada 01 pessoa do gênero Feminino.'\n",
    "     .format(dead_proportion))\n",
    "\n",
    "# Gráfico da quantidade de mortos por gênero. \n",
    "gender = ['Masculino', 'Feminino'] \n",
    "gender_surviver = [male_dead, female_dead] \n",
    "color = 'darkblue', 'pink' \n",
    "\n",
    "plt.bar(gender, gender_surviver, color=color);\n",
    "plt.title('Mortes - Masculino x Feminino')\n",
    "plt.xlabel('Gênero')\n",
    "plt.ylabel('Quantidade de mortes');"
   ]
  },
  {
   "cell_type": "markdown",
   "metadata": {},
   "source": [
    "Baseado nos dados visíveis acima:\n",
    "   - A mortalidade do gênero masculino é `6x maior` que a mortalidade do gênero feminino nesse acidente.\n",
    "       - Masculino: 577 mortos\n",
    "       - Feminino: 314 mortos"
   ]
  },
  {
   "cell_type": "markdown",
   "metadata": {},
   "source": [
    "***5- Qual porto teve mais sobreviventes?***"
   ]
  },
  {
   "cell_type": "code",
   "execution_count": 68,
   "metadata": {},
   "outputs": [
    {
     "name": "stdout",
     "output_type": "stream",
     "text": [
      "A quantidade de passageiros embarcados nos portos são:\n",
      "» Cherbourg 168 pessoas \n",
      "» Queenstown 77 pessoas \n",
      "» Southampton 644 pessoas \n",
      "» Total 889 pessoas \n"
     ]
    },
    {
     "data": {
      "image/png": "[encoded data removed]",
      "text/plain": [
       "<Figure size 432x288 with 1 Axes>"
      ]
     },
     "metadata": {},
     "output_type": "display_data"
    }
   ],
   "source": [
    "#Isolando a coluna Embarque (embarked) para realizar a separação e contagem dos portos. \n",
    "embarked = df_titanic['embarked']\n",
    "\n",
    "# Somando o total de passageiros embarcados em todos os portos\n",
    "total_embarked = df_titanic['embarked'].value_counts().sum()\n",
    "\n",
    "# Variáveis do total de contagem de cada porto.\n",
    "total_pass_s = 0\n",
    "total_pass_c = 0\n",
    "total_pass_q = 0\n",
    "\n",
    "\n",
    "# Loop para separação e contagem de passageiros por porto.  \n",
    "for i in embarked:\n",
    "    if i == 'S':\n",
    "        total_pass_s += 1 \n",
    "    elif i == 'C':\n",
    "        total_pass_c += 1\n",
    "    elif i == 'Q':\n",
    "        total_pass_q += 1\n",
    "\n",
    "# Exibir a quantidade de passageiro por porto.  \n",
    "print('A quantidade de passageiros embarcados nos portos são:\\n» Cherbourg {} pessoas \\n» Queenstown {} pessoas \\n» Southampton {} pessoas \\n» Total {} pessoas '\n",
    "      .format(total_pass_c, total_pass_q, total_pass_s, total_embarked))\n",
    "\n",
    "# Gráfico da relação quantidade de passageiro x porto de embarque. \n",
    "qtd_embarked = [total_pass_c/total_embarked*100, total_pass_q/total_embarked*100, total_pass_s/total_embarked*100]\n",
    "ports = ['Cherbourg','Queenstown','Southampton']\n",
    "plt.bar(ports, qtd_embarked, color = ('black','red','orange'));\n",
    "plt.title('Passageiros embarcados \\n')\n",
    "plt.xlabel('\\nPorto de embarque')\n",
    "plt.ylabel('% de passageiros\\n'); "
   ]
  },
  {
   "cell_type": "markdown",
   "metadata": {},
   "source": [
    "Baseado nos dados visíveis acima:\n",
    "   - Mais de 70% dos passageiros embarcados foram do porto da cidade Southampton/UK.\n",
    "   \n",
    "Nos gráficos abaixos iremos aprofundar a análise de sobreviventes e mortes por porto. "
   ]
  },
  {
   "cell_type": "code",
   "execution_count": 69,
   "metadata": {
    "scrolled": true
   },
   "outputs": [
    {
     "data": {
      "image/png": "[encoded data removed]",
      "text/plain": [
       "<Figure size 432x288 with 1 Axes>"
      ]
     },
     "metadata": {},
     "output_type": "display_data"
    }
   ],
   "source": [
    "# Colocamos os Embarcados (embarked) como index, para conhecer a quantidade de sobreviventes e mortos por porto.\n",
    "total_surv_dead_port =  df_titanic.groupby('embarked')['survived'].value_counts()\n",
    "\n",
    "# Listas de sobreviventes e mortos por porto. \n",
    "port_c_survi_dead = [total_surv_dead_port[0],total_surv_dead_port[1]]\n",
    "port_q_survi_dead = [total_surv_dead_port[3],total_surv_dead_port[2]]\n",
    "port_s_survi_dead = [total_surv_dead_port[5],total_surv_dead_port[4]]\n",
    "\n",
    "# Gráfico de sobreviventes e mortes os passageiros embarcados em Cherbourg.\n",
    "tipo = ['Sobrevivente', 'Morto']\n",
    "explode = (0, 0.1)\n",
    "fig1, ax1 = plt.subplots()\n",
    "ax1.pie(port_c_survi_dead, explode = explode, labels = tipo, autopct = '%1.1f%%', shadow = True, startangle = 90)\n",
    "ax1.axis('equal')\n",
    "ax1.set_title('Porto Cherbourg')\n",
    "plt.show()   "
   ]
  },
  {
   "cell_type": "markdown",
   "metadata": {},
   "source": [
    "Baseado nos dados visíveis acima:\n",
    "   - 55,4% dos passageiros do porto da cidade Cherbourg sobreviveram."
   ]
  },
  {
   "cell_type": "code",
   "execution_count": 70,
   "metadata": {},
   "outputs": [
    {
     "data": {
      "image/png": "[encoded data removed]",
      "text/plain": [
       "<Figure size 432x288 with 1 Axes>"
      ]
     },
     "metadata": {},
     "output_type": "display_data"
    }
   ],
   "source": [
    "# Gráfico de sobreviventes e mortes os passageiros embarcados em Queenstown.\n",
    "tipo = ['Sobrevivente', 'Morto']\n",
    "explode = (0, 0.1)\n",
    "fig1, ax1 = plt.subplots()\n",
    "ax1.pie(port_q_survi_dead, explode = explode, labels = tipo, autopct = '%1.1f%%', shadow = True, startangle = 90)\n",
    "ax1.axis('equal')\n",
    "ax1.set_title('Porto Queenstown')\n",
    "plt.show()   "
   ]
  },
  {
   "cell_type": "markdown",
   "metadata": {},
   "source": [
    "Baseado nos dados visíveis acima:\n",
    "   - Apenas 39% dos passageiros do porto da cidade Queentown sobreviveram."
   ]
  },
  {
   "cell_type": "code",
   "execution_count": 71,
   "metadata": {
    "scrolled": true
   },
   "outputs": [
    {
     "data": {
      "image/png": "[encoded data removed]",
      "text/plain": [
       "<Figure size 432x288 with 1 Axes>"
      ]
     },
     "metadata": {},
     "output_type": "display_data"
    }
   ],
   "source": [
    "# Gráfico de sobreviventes e mortes os passageiros embarcados em Southampton.\n",
    "tipo = ['Sobrevivente', 'Morto']\n",
    "explode = (0, 0.1)\n",
    "fig1, ax1 = plt.subplots()\n",
    "ax1.pie(port_s_survi_dead, explode = explode, labels = tipo, autopct = '%1.1f%%', shadow = True, startangle = 90)\n",
    "ax1.axis('equal')\n",
    "ax1.set_title('Porto Southampton')\n",
    "plt.show()  "
   ]
  },
  {
   "cell_type": "markdown",
   "metadata": {},
   "source": [
    "Baseado nos dados visíveis acima:\n",
    "   - Apenas 33,7% dos passageiros do porto da cidade Southampton sobreviveram."
   ]
  },
  {
   "cell_type": "markdown",
   "metadata": {},
   "source": [
    "Analisando os 4 gráficos acima referente a pergunta 5, podemos concluir que:\n",
    "   - O porto com maior número de sobreviventes foi o de `Cherbourg com 55,4%` de sobreviventes, embora curiosamente não tenha sido o porto com maior número de pessoas embarcadas no navio."
   ]
  },
  {
   "cell_type": "markdown",
   "metadata": {},
   "source": [
    "***6- Qual a relação dos ticket class por porto?***"
   ]
  },
  {
   "cell_type": "code",
   "execution_count": 72,
   "metadata": {
    "scrolled": true
   },
   "outputs": [
    {
     "data": {
      "image/png": "[encoded data removed]",
      "text/plain": [
       "<Figure size 432x288 with 1 Axes>"
      ]
     },
     "metadata": {},
     "output_type": "display_data"
    }
   ],
   "source": [
    "# Agrupamos Ticket Class (pclass) como index e iremos contar a quantidade de passageiros de cada porto por Ticket class. \n",
    "count_class_port = df_titanic.groupby('pclass')['embarked'].value_counts()\n",
    "\n",
    "#Gráfico de passageiros da 1º Classe x porto de embarque.\n",
    "first_class_port = count_class_port[1]\n",
    "\n",
    "ports = ['Southampton', 'Cherbourg', 'Queenstown']\n",
    "plt.bar(ports, first_class_port.tolist(), color = ('orange', 'black', 'red'));\n",
    "plt.title('1º Classe x Porto de Embarque\\n')\n",
    "plt.xlabel('\\nPorto de embarque')\n",
    "plt.ylabel('Quantidade de passageiros'); "
   ]
  },
  {
   "cell_type": "markdown",
   "metadata": {},
   "source": [
    "Baseado nos dados visíveis acima:\n",
    "   - Grande parte dos passageiros da 1º classe vieram dos portos de Southampton e Cherbourg."
   ]
  },
  {
   "cell_type": "code",
   "execution_count": 73,
   "metadata": {},
   "outputs": [
    {
     "data": {
      "image/png": "[encoded data removed]",
      "text/plain": [
       "<Figure size 432x288 with 1 Axes>"
      ]
     },
     "metadata": {},
     "output_type": "display_data"
    }
   ],
   "source": [
    "#Gráfico de passageiros da 2º Classe x porto de embarque.\n",
    "second_class_port = count_class_port[2]\n",
    "\n",
    "ports = ['Southampton','Cherbourg','Queenstown']\n",
    "plt.bar(ports, second_class_port.tolist(), color = ('orange', 'black', 'red'));\n",
    "plt.title('2º Classe x Porto de Embarque\\n')\n",
    "plt.xlabel('\\nPorto de embarque')\n",
    "plt.ylabel('Quantidade de passageiros'); "
   ]
  },
  {
   "cell_type": "markdown",
   "metadata": {},
   "source": [
    "Baseado nos dados visíveis acima:\n",
    "   - Quase que em sua totalidade a 2º classe é formada por embarcados no porto de Southampthon"
   ]
  },
  {
   "cell_type": "code",
   "execution_count": 74,
   "metadata": {
    "scrolled": true
   },
   "outputs": [
    {
     "data": {
      "image/png": "[encoded data removed]",
      "text/plain": [
       "<Figure size 432x288 with 1 Axes>"
      ]
     },
     "metadata": {},
     "output_type": "display_data"
    }
   ],
   "source": [
    "#Gráfico de passageiros da 3º Classe x porto de embarque.\n",
    "third_class_port = count_class_port[3]\n",
    "\n",
    "ports = ['Southampton','Queenstown','Cherbourg']\n",
    "plt.bar(ports, third_class_port.tolist(), color = ('orange', 'red', 'black'));\n",
    "plt.title('3º Classe x Porto de Embarque\\n')\n",
    "plt.xlabel('\\nPorto de embarque')\n",
    "plt.ylabel('Quantidade de passageiros'); "
   ]
  },
  {
   "cell_type": "markdown",
   "metadata": {},
   "source": [
    "Baseado nos dados visíveis acima:\n",
    "   - Grande parte dos passageiros da 3º classe vieram dos portos de Southampton.\n",
    "   - Queenstown e Cherbourg possuem uma mesma quantidade de embarcados na 3º classe."
   ]
  },
  {
   "cell_type": "markdown",
   "metadata": {},
   "source": [
    "## 5- Conclusão \n",
    "\n",
    "Aqui serão apresentados alguns insights dos dados analisados acima sobre o naufrágio do Titanic.\n",
    "\n",
    "- 38% dessa base sobreviveram ao desastre do Titanic representando 342 pessoas.<br>\n",
    "\n",
    "- Maior parte dos passageiros são da 3º classe com 491, seguidos da 1º classe com 216 e 184 da 2º classe.<br> \n",
    "\n",
    "- O resultado da relação entre sobreviventes x mortos de um mesmo Ticket Class (pclass) demonstra que:<br>\n",
    "        \n",
    "        -> Mais de 62% dos passageiros da 1º classe sobreviveram\n",
    "        -> Apenas 25% dos passageiros da 3º classe sobreviveram\n",
    "\n",
    "- O número de mortes do gênero masculino é **6x maior** no gênero feminino.<br> \n",
    "\n",
    "Isso reforçaria a tese que mulheres e crianças tem grande prioridade no resgate ou no processo evacuação em navios. Porém em reportagem realizada pelo portal UOL, um estudo realizado pelo Departamento de Economia da Universidade de Uppsala, Suécia, e publicado nas Atas da Academia Nacional de Ciências (PNAS) diz que as mulheres sobreviveram mais que os homens em apenas dois dos 18 naufrágios estudados, o do Titanic em 1912 e do Birkenhead. Sendo assim, a prioridade de salvamento para mulheres e crianças é apenas um mito presente no Titanic e Birkenhead.\n",
    "\n",
    "*Fonte: [UOL - Homens sobrevivem mais aos naufrágios](https://noticias.uol.com.br/saude/ultimas-noticias/afp/2012/07/31/homens-sobrevivem-mais-que-mulheres-e-criancas-em-naufragios-titanic-e-excecao.htm?)*\n",
    "\n",
    "- Os passageiros embarcaram em:<br>\n",
    "   > Southampton, Reino Unido = 644 pessoas (local de partida)\n",
    "       -> a maior quantidade absoluta de passageiros da 3º viera desse porto.\n",
    "   \n",
    "   > Cherbourg, França =  168 pessoas <br>\n",
    "       -> a maior quantidade de passageiros desse porto era da 2º classe.\n",
    "   \n",
    "   > Queenstown, Irlanda = 77 pessoas.<br>\n",
    "       -> baixíssimo número de passageiros da 1º e 2º classe viera desse porto\n",
    "\n",
    "\n",
    "- Avaliando os percentuais de sobreviventes e mortes, sabendo-se que as pessoas de 1º Classe e gênero feminino são as que sobreviveram ao desastre, podemos ter como hipótese que:<br>\n",
    "\n",
    "    • Cherbourg possui uma parte considerável dos passageiros sobreviventes que são do gênero feminino e da 1º classe.\n",
    "\n",
    "    • Southampton e Queenstown possuem a maioria dos mortos com gênero masculinos e da 3 º classe.\n",
    "\n",
    "Essas duas hipóteses podem ser confirmadas futuramente com mais exploração da base e cruzamentos dos dados obtidos.<br>\n"
   ]
  },
  {
   "cell_type": "markdown",
   "metadata": {},
   "source": [
    "#### Limitações:\n",
    "\n",
    "Durante o estágio de análise dos dados verifiquei a falta de alguns valores nas seguintes colunas: Age, Cabin e Embarked.\n",
    "\n",
    "Medidas tomadas:\n",
    "- Age: essa coluna foi desprezada da análise.\n",
    "- Cabin: essa coluna foi desprezada da análise\n",
    "- Embarked: Essa coluna possuía apenas 2 valores faltantes não comprometendo a análise dos dados dessa coluna.  \n"
   ]
  }
 ],
 "metadata": {
  "kernelspec": {
   "display_name": "Python 3",
   "language": "python",
   "name": "python3"
  },
  "language_info": {
   "codemirror_mode": {
    "name": "ipython",
    "version": 3
   },
   "file_extension": ".py",
   "mimetype": "text/x-python",
   "name": "python",
   "nbconvert_exporter": "python",
   "pygments_lexer": "ipython3",
   "version": "3.6.6"
  }
 },
 "nbformat": 4,
 "nbformat_minor": 2
}
